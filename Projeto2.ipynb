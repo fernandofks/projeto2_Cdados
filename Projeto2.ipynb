{
 "cells": [
  {
   "cell_type": "markdown",
   "metadata": {},
   "source": [
    "# Projeto 2 - Ciência dos Dados"
   ]
  },
  {
   "cell_type": "markdown",
   "metadata": {},
   "source": [
    "Nome: _____\n",
    "\n",
    "Nome: _____"
   ]
  },
  {
   "cell_type": "markdown",
   "metadata": {},
   "source": [
    "Serão permitidos grupos de três pessoas, mas com uma rubrica mais exigente. Grupos deste tamanho precisarão fazer um questionário de avaliação de trabalho em equipe"
   ]
  },
  {
   "cell_type": "markdown",
   "metadata": {},
   "source": [
    "___\n",
    "# Classificador automático de sentimento\n"
   ]
  },
  {
   "cell_type": "markdown",
   "metadata": {},
   "source": [
    "## Preparando o ambiente no jupyter:"
   ]
  },
  {
   "cell_type": "code",
   "execution_count": 1,
   "metadata": {},
   "outputs": [],
   "source": [
    "%%capture\n",
    "\n",
    "#Instalando o tweepy\n",
    "!pip install tweepy\n",
    "!pip install emoji"
   ]
  },
  {
   "cell_type": "code",
   "execution_count": 2,
   "metadata": {
    "jupyter": {
     "outputs_hidden": true
    }
   },
   "outputs": [],
   "source": [
    "import tweepy\n",
    "import math\n",
    "import functools\n",
    "import os.path\n",
    "import operator\n",
    "import pandas as pd\n",
    "import json\n",
    "import numpy as np\n",
    "from random import shuffle\n",
    "import emoji"
   ]
  },
  {
   "cell_type": "markdown",
   "metadata": {},
   "source": [
    "## Função para limpar o texto"
   ]
  },
  {
   "cell_type": "code",
   "execution_count": 3,
   "metadata": {},
   "outputs": [],
   "source": [
    "import re \n",
    "\n",
    "def cleanup(text):\n",
    "    \"\"\"\n",
    "        Função de limpeza muito simples que troca alguns sinais básicos por espaços\n",
    "    \"\"\"\n",
    "    import string\n",
    "    \n",
    "    text = ' '.join(word for word in text.split() if not word.startswith('https'))\n",
    "    \n",
    "    text_split_emoji = emoji.get_emoji_regexp().split(text)\n",
    "    text_split_whitespace = [substr.split() for substr in text_split_emoji]\n",
    "    text_split = functools.reduce(operator.concat, text_split_whitespace)\n",
    "    text = ' '.join(word for word in text_split)\n",
    "    \n",
    "    punctuation = '[!-/.:?;@]' # Note que os sinais [] são delimitadores de um conjunto.\n",
    "    pattern = re.compile(punctuation)\n",
    "    nova_linha = '[\\n]'\n",
    "    text_subbed = re.sub(pattern, ' ', text)\n",
    "    text_subbed = re.sub(nova_linha, \" \", text_subbed)\n",
    "    return text_subbed"
   ]
  },
  {
   "cell_type": "markdown",
   "metadata": {},
   "source": [
    "___\n",
    "## Autenticando no  Twitter\n",
    "\n",
    "* Conta: ***[Preencha aqui o id da sua conta. Ex: @fulano ]***"
   ]
  },
  {
   "cell_type": "raw",
   "metadata": {
    "jupyter": {
     "outputs_hidden": true
    }
   },
   "source": [
    "#Dados de autenticação do twitter:\n",
    "\n",
    "#Coloque aqui o identificador da conta no twitter: @fulano\n",
    "\n",
    "#leitura do arquivo no formato JSON\n",
    "with open('auth.pass') as fp:    \n",
    "    data = json.load(fp)\n",
    "\n",
    "#Configurando a biblioteca. Não modificar\n",
    "auth = tweepy.OAuthHandler(data['consumer_key'], data['consumer_secret'])\n",
    "auth.set_access_token(data['access_token'], data['access_token_secret'])"
   ]
  },
  {
   "cell_type": "markdown",
   "metadata": {},
   "source": [
    "\n",
    "___\n",
    "## Etapas do projeto:"
   ]
  },
  {
   "cell_type": "markdown",
   "metadata": {},
   "source": [
    "### Escolha de um produto e coleta das mensagens\n"
   ]
  },
  {
   "cell_type": "raw",
   "metadata": {
    "jupyter": {
     "outputs_hidden": true
    }
   },
   "source": [
    "#Produto escolhido:\n",
    "produto = 'pokemon'\n",
    "\n",
    "#Quantidade mínima de mensagens capturadas:\n",
    "n = 500\n",
    "#Quantidade mínima de mensagens para a base de treinamento:\n",
    "t = 300\n",
    "\n",
    "#Filtro de língua, escolha uma na tabela ISO 639-1.\n",
    "lang = 'pt'"
   ]
  },
  {
   "cell_type": "markdown",
   "metadata": {},
   "source": [
    "Capturando os dados do twitter:"
   ]
  },
  {
   "cell_type": "raw",
   "metadata": {
    "jupyter": {
     "outputs_hidden": true
    }
   },
   "source": [
    "#Cria um objeto para a captura\n",
    "api = tweepy.API(auth)\n",
    "\n",
    "#Inicia a captura, para mais detalhes: ver a documentação do tweepy\n",
    "i = 1\n",
    "msgs = []\n",
    "\n",
    "for msg in tweepy.Cursor(api.search, q=produto, lang=lang, tweet_mode='extended').items():  \n",
    "    if (not msg.retweeted) and ('RT' not in msg.full_text): \n",
    "        msgs.append(msg.full_text.lower())\n",
    "        i += 1\n",
    "    if i > n:\n",
    "        break\n",
    "\n",
    "#Embaralhando as mensagens para reduzir um possível viés\n",
    "shuffle(msgs)"
   ]
  },
  {
   "cell_type": "markdown",
   "metadata": {},
   "source": [
    "Salvando os dados em uma planilha Excel:"
   ]
  },
  {
   "cell_type": "raw",
   "metadata": {
    "jupyter": {
     "outputs_hidden": true
    }
   },
   "source": [
    "#Verifica se o arquivo não existe para não substituir um conjunto pronto\n",
    "if not os.path.isfile('./{0}.xlsx'.format(produto)):\n",
    "    \n",
    "    #Abre o arquivo para escrita\n",
    "    writer = pd.ExcelWriter('{0}.xlsx'.format(produto))\n",
    "\n",
    "    #divide o conjunto de mensagens em duas planilhas\n",
    "    dft = pd.DataFrame({'Treinamento' : pd.Series(msgs[:t])})\n",
    "    dft.to_excel(excel_writer = writer, sheet_name = 'Treinamento', index = False)\n",
    "\n",
    "    dfc = pd.DataFrame({'Teste' : pd.Series(msgs[t:])})\n",
    "    dfc.to_excel(excel_writer = writer, sheet_name = 'Teste', index = False)\n",
    "\n",
    "    #fecha o arquivo\n",
    "    writer.save()"
   ]
  },
  {
   "cell_type": "markdown",
   "metadata": {},
   "source": [
    "___\n",
    "### Classificando as mensagens na coragem\n",
    "\n",
    "Esta etapa é manual. Faça a mesma pelo Excel."
   ]
  },
  {
   "cell_type": "code",
   "execution_count": 4,
   "metadata": {},
   "outputs": [],
   "source": [
    "#Leitura do excel já classificado\n",
    "pokemon_treino = pd.read_excel(\"pokemon_classificado.xlsx\", \"Treinamento\")\n",
    "pokemon_teste = pd.read_excel(\"pokemon_classificado.xlsx\", \"Teste\")"
   ]
  },
  {
   "cell_type": "markdown",
   "metadata": {},
   "source": [
    "___\n",
    "### Montando o Classificador Naive-Bayes\n",
    "\n",
    "Considerando apenas as mensagens da planilha Treinamento, ensine  seu classificador."
   ]
  },
  {
   "cell_type": "code",
   "execution_count": 50,
   "metadata": {
    "scrolled": true
   },
   "outputs": [
    {
     "data": {
      "text/plain": [
       "de             199\n",
       "pokémon        168\n",
       "e              140\n",
       "que            139\n",
       "o              129\n",
       "pokemon        121\n",
       "eu              94\n",
       "a               93\n",
       "é               85\n",
       "um              68\n",
       "pra             66\n",
       "do              66\n",
       "no              65\n",
       "em              61\n",
       "com             60\n",
       "não             59\n",
       "go              46\n",
       "na              41\n",
       "uma             40\n",
       "meu             40\n",
       "me              37\n",
       "mas             34\n",
       "mais            33\n",
       "os              32\n",
       "da              32\n",
       "só              31\n",
       "se              29\n",
       "tem             24\n",
       "jogar           24\n",
       "para            22\n",
       "              ... \n",
       "gosta            1\n",
       "anermidas        1\n",
       "existência       1\n",
       "disponíveis      1\n",
       "sentido          1\n",
       "caras            1\n",
       "adoptar          1\n",
       "andrak93         1\n",
       "mobile           1\n",
       "capacete         1\n",
       "equação          1\n",
       "depende          1\n",
       "medobônus        1\n",
       "veio             1\n",
       "drowzee          1\n",
       "usum             1\n",
       "oitavo           1\n",
       "simbolos         1\n",
       "guardadas        1\n",
       "s18e104          1\n",
       "concordando      1\n",
       "surto            1\n",
       "espalhando       1\n",
       "real             1\n",
       "vila             1\n",
       "entender         1\n",
       "rico             1\n",
       "estudar          1\n",
       "bears            1\n",
       "instala          1\n",
       "Length: 2162, dtype: int64"
      ]
     },
     "execution_count": 50,
     "metadata": {},
     "output_type": "execute_result"
    }
   ],
   "source": [
    "pokemon_treino_texto = pd.Series(pokemon_treino[\"Treinamento\"])\n",
    "pokemon_treino_texto = pokemon_treino_texto.str.cat()\n",
    "pokemon_treino_texto = cleanup(pokemon_treino_texto.lower())\n",
    "lista_relativa = pokemon_treino_texto.split()\n",
    "frequencia_absoluta = pd.Series(lista_relativa).value_counts()\n",
    "frequencia_relativa = pd.Series(lista_relativa).value_counts(True)\n",
    "frequencia_absoluta"
   ]
  },
  {
   "cell_type": "code",
   "execution_count": 6,
   "metadata": {
    "scrolled": true
   },
   "outputs": [
    {
     "data": {
      "text/plain": [
       "go              0.037998\n",
       "pokémon         0.032437\n",
       "de              0.029657\n",
       "no              0.025023\n",
       "pokemon         0.023170\n",
       "que             0.021316\n",
       "é               0.017609\n",
       "eu              0.017609\n",
       "meu             0.016682\n",
       "pra             0.016682\n",
       "me              0.013902\n",
       "o               0.012048\n",
       "a               0.012048\n",
       "e               0.012048\n",
       "uma             0.012048\n",
       "masters         0.011121\n",
       "jogar           0.010195\n",
       "um              0.010195\n",
       "na              0.009268\n",
       "código          0.009268\n",
       "treinador       0.009268\n",
       "em              0.007414\n",
       "amizade         0.007414\n",
       "começar         0.006487\n",
       "joga            0.005561\n",
       "q               0.005561\n",
       "do              0.005561\n",
       "com             0.005561\n",
       "não             0.004634\n",
       "semana          0.004634\n",
       "                  ...   \n",
       "boa             0.000927\n",
       "sedentarismo    0.000927\n",
       "moto            0.000927\n",
       "0561            0.000927\n",
       "nos             0.000927\n",
       "sᴜʀᴠᴇʏ          0.000927\n",
       "demaisvamos     0.000927\n",
       "decidi          0.000927\n",
       "🇺🇸              0.000927\n",
       "3842            0.000927\n",
       "porra           0.000927\n",
       "bem             0.000927\n",
       "maduro          0.000927\n",
       "🌎               0.000927\n",
       "futuros         0.000927\n",
       "pedir           0.000927\n",
       "portátil        0.000927\n",
       "715005          0.000927\n",
       "mercado         0.000927\n",
       "preguiça        0.000927\n",
       "3710            0.000927\n",
       "frente          0.000927\n",
       "concluir        0.000927\n",
       "leon            0.000927\n",
       "american        0.000927\n",
       "arrependo       0.000927\n",
       "desemprego      0.000927\n",
       "feito           0.000927\n",
       "7865            0.000927\n",
       "73              0.000927\n",
       "Length: 517, dtype: float64"
      ]
     },
     "execution_count": 6,
     "metadata": {},
     "output_type": "execute_result"
    }
   ],
   "source": [
    "relevante = pokemon_treino.loc[pokemon_treino[\"Relevância\"] == 1]\n",
    "pokemon_relevante_texto = pd.Series(relevante.Treinamento)\n",
    "pokemon_relevante_texto = pokemon_relevante_texto.str.cat()\n",
    "pokemon_relevante_texto = cleanup(pokemon_relevante_texto.lower())\n",
    "lista_relevante_relativa = pokemon_relevante_texto.split()\n",
    "frequencia_absoluta_relevante = pd.Series(lista_relevante_relativa).value_counts()\n",
    "frequencia_relativa_relevante = pd.Series(lista_relevante_relativa).value_counts(True)\n",
    "frequencia_relativa_relevante"
   ]
  },
  {
   "cell_type": "code",
   "execution_count": 7,
   "metadata": {
    "scrolled": true
   },
   "outputs": [
    {
     "data": {
      "text/plain": [
       "de                    0.033854\n",
       "pokémon               0.027367\n",
       "e                     0.025745\n",
       "que                   0.023515\n",
       "o                     0.023515\n",
       "pokemon               0.019663\n",
       "a                     0.016420\n",
       "eu                    0.015406\n",
       "é                     0.013379\n",
       "do                    0.012163\n",
       "um                    0.011555\n",
       "com                   0.010947\n",
       "não                   0.010947\n",
       "em                    0.010744\n",
       "pra                   0.009730\n",
       "no                    0.007703\n",
       "na                    0.006284\n",
       "mas                   0.006081\n",
       "mais                  0.006081\n",
       "os                    0.005676\n",
       "só                    0.005473\n",
       "uma                   0.005473\n",
       "da                    0.005473\n",
       "se                    0.005271\n",
       "me                    0.004460\n",
       "meu                   0.004460\n",
       "tem                   0.004257\n",
       "para                  0.003852\n",
       "as                    0.003649\n",
       "ele                   0.003649\n",
       "                        ...   \n",
       "pokemongocommunity    0.000203\n",
       "doubles               0.000203\n",
       "gasta                 0.000203\n",
       "foto                  0.000203\n",
       "játava                0.000203\n",
       "química               0.000203\n",
       "amanhã                0.000203\n",
       "parça                 0.000203\n",
       "meas                  0.000203\n",
       "redeu                 0.000203\n",
       "teórico               0.000203\n",
       "perfeito              0.000203\n",
       "rikkikitsune          0.000203\n",
       "total                 0.000203\n",
       "sala                  0.000203\n",
       "gosta                 0.000203\n",
       "físico                0.000203\n",
       "valor                 0.000203\n",
       "explicar              0.000203\n",
       "irracionais           0.000203\n",
       "arqueobiologia        0.000203\n",
       "friend                0.000203\n",
       "esquecendo            0.000203\n",
       "montar                0.000203\n",
       "evoluir               0.000203\n",
       "hipocrita             0.000203\n",
       "igrejapokemon         0.000203\n",
       "ansioso               0.000203\n",
       "combinação            0.000203\n",
       "instala               0.000203\n",
       "Length: 1867, dtype: float64"
      ]
     },
     "execution_count": 7,
     "metadata": {},
     "output_type": "execute_result"
    }
   ],
   "source": [
    "irrelevante = pokemon_treino.loc[pokemon_treino[\"Relevância\"] == 0]\n",
    "pokemon_irrelevante_texto = pd.Series(irrelevante.Treinamento)\n",
    "pokemon_irrelevante_texto = pokemon_irrelevante_texto.str.cat()\n",
    "pokemon_irrelevante_texto = cleanup(pokemon_irrelevante_texto.lower())\n",
    "lista_irrelevante_relativa = pokemon_irrelevante_texto.split()\n",
    "frequencia_absoluta_irrelevante = pd.Series(lista_irrelevante_relativa).value_counts()\n",
    "frequencia_relativa_irrelevante = pd.Series(lista_irrelevante_relativa).value_counts(True)\n",
    "frequencia_relativa_irrelevante"
   ]
  },
  {
   "cell_type": "code",
   "execution_count": 18,
   "metadata": {},
   "outputs": [],
   "source": [
    "pokemon_teste_texto = pd.Series(pokemon_teste[\"Teste\"])\n",
    "pokemon_teste_texto_limpo = []\n",
    "for i in pokemon_teste_texto:\n",
    "    pokemon_teste_texto_limpo.append(cleanup(i.lower()))\n",
    "pokemon"
   ]
  },
  {
   "cell_type": "code",
   "execution_count": 17,
   "metadata": {},
   "outputs": [
    {
     "data": {
      "text/plain": [
       "0    0.79\n",
       "1    0.21\n",
       "Name: Relevância, dtype: float64"
      ]
     },
     "execution_count": 17,
     "metadata": {},
     "output_type": "execute_result"
    }
   ],
   "source": [
    "quantidade_relevante = pokemon_treino.Relevância.value_counts(True)\n",
    "pokemon_treino\n",
    "quantidade_relevante"
   ]
  },
  {
   "cell_type": "code",
   "execution_count": 74,
   "metadata": {
    "scrolled": false
   },
   "outputs": [
    {
     "data": {
      "text/plain": [
       "0    0.795\n",
       "1    0.205\n",
       "Name: Relevante, dtype: float64"
      ]
     },
     "execution_count": 74,
     "metadata": {},
     "output_type": "execute_result"
    }
   ],
   "source": [
    "quantidade_relevante_teste_numero = pokemon_teste.Relevante.value_counts(True)\n",
    "quantidade_relevante_teste_numero"
   ]
  },
  {
   "cell_type": "markdown",
   "metadata": {},
   "source": [
    "___\n",
    "### Verificando a performance\n",
    "\n",
    "Agora você deve testar o seu classificador com a base de Testes."
   ]
  },
  {
   "cell_type": "code",
   "execution_count": 93,
   "metadata": {},
   "outputs": [
    {
     "data": {
      "text/plain": [
       "0    0.84\n",
       "1    0.16\n",
       "dtype: float64"
      ]
     },
     "execution_count": 93,
     "metadata": {},
     "output_type": "execute_result"
    }
   ],
   "source": [
    "avaliacao = []\n",
    "\n",
    "for i in pokemon_teste_texto_limpo:\n",
    "    \n",
    "    prob_relev = 0\n",
    "    prob_irrelev = 0\n",
    "    \n",
    "    for w in i.split():\n",
    "        \n",
    "        if w in lista_relevante_relativa:\n",
    "            prob_relev += np.log10((frequencia_relativa_relevante[w]))\n",
    "        else:\n",
    "            prob_relev += np.log10((1)/(len(frequencia_relativa_relevante)+1000000))\n",
    "    \n",
    "        if w in lista_irrelevante_relativa:\n",
    "            prob_irrelev += np.log10((frequencia_relativa_irrelevante[w]))\n",
    "        else:\n",
    "            prob_irrelev += np.log10((1)/(len(frequencia_relativa_irrelevante)+1000000))\n",
    "            \n",
    "    prob_irrelev *=(-1)\n",
    "    prob_relev *=(-1)\n",
    "\n",
    "    if (prob_relev<prob_irrelev):\n",
    "        avaliacao.append(1)\n",
    "    else:\n",
    "        avaliacao.append(0)\n",
    "        \n",
    "avaliacao=pd.Series(avaliacao)\n",
    "avaliacao.value_counts(True)"
   ]
  },
  {
   "cell_type": "code",
   "execution_count": 76,
   "metadata": {},
   "outputs": [
    {
     "name": "stdout",
     "output_type": "stream",
     "text": [
      "0.35\n"
     ]
    }
   ],
   "source": [
    "Victory = 0\n",
    "\n",
    "for a in range(0, (len(avaliacao)-1)):\n",
    "    if avaliacao[a] == pokemon_teste.Relevante[a]:\n",
    "        Victory += 1\n",
    "print(Victory/100)\n",
    "        \n",
    "        "
   ]
  },
  {
   "cell_type": "code",
   "execution_count": null,
   "metadata": {},
   "outputs": [],
   "source": []
  },
  {
   "cell_type": "code",
   "execution_count": null,
   "metadata": {},
   "outputs": [],
   "source": []
  },
  {
   "cell_type": "code",
   "execution_count": null,
   "metadata": {},
   "outputs": [],
   "source": []
  },
  {
   "cell_type": "markdown",
   "metadata": {},
   "source": [
    "___\n",
    "### Concluindo"
   ]
  },
  {
   "cell_type": "code",
   "execution_count": null,
   "metadata": {},
   "outputs": [],
   "source": []
  },
  {
   "cell_type": "code",
   "execution_count": null,
   "metadata": {},
   "outputs": [],
   "source": []
  },
  {
   "cell_type": "markdown",
   "metadata": {},
   "source": [
    "## Aperfeiçoamento:\n",
    "\n",
    "Os trabalhos vão evoluir em conceito dependendo da quantidade de itens avançados:\n",
    "\n",
    "* Limpar: \\n, :, \", ', (, ), etc SEM remover emojis\n",
    "* Corrigir separação de espaços entre palavras e emojis ou emojis e emojis\n",
    "* Propor outras limpezas e transformações que não afetem a qualidade da informação ou classificação\n",
    "* Criar categorias intermediárias de relevância baseadas na probabilidade: ex.: muito relevante, relevante, neutro, irrelevante, muito irrelevante (3 categorias: C, mais categorias conta para B)\n",
    "* Explicar por que não posso usar o próprio classificador para gerar mais amostras de treinamento\n",
    "* Propor diferentes cenários para Naïve Bayes fora do contexto do projeto\n",
    "* Sugerir e explicar melhorias reais com indicações concretas de como implementar (indicar como fazer e indicar material de pesquisa)\n",
    "* Montar um dashboard que periodicamente realiza análise de sentimento e visualiza estes dados"
   ]
  },
  {
   "cell_type": "markdown",
   "metadata": {},
   "source": [
    "# Referências"
   ]
  },
  {
   "cell_type": "markdown",
   "metadata": {},
   "source": [
    "[Naive Bayes and Text Classification](https://arxiv.org/pdf/1410.5329.pdf)  **Mais completo**\n",
    "\n",
    "[A practical explanation of a Naive Bayes Classifier](https://monkeylearn.com/blog/practical-explanation-naive-bayes-classifier/) **Mais simples**"
   ]
  },
  {
   "cell_type": "code",
   "execution_count": null,
   "metadata": {},
   "outputs": [],
   "source": []
  }
 ],
 "metadata": {
  "kernelspec": {
   "display_name": "Python 3",
   "language": "python",
   "name": "python3"
  },
  "language_info": {
   "codemirror_mode": {
    "name": "ipython",
    "version": 3
   },
   "file_extension": ".py",
   "mimetype": "text/x-python",
   "name": "python",
   "nbconvert_exporter": "python",
   "pygments_lexer": "ipython3",
   "version": "3.7.1"
  }
 },
 "nbformat": 4,
 "nbformat_minor": 4
}
